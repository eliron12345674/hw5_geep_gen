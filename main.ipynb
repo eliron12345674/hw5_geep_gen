{
 "cells": [
  {
   "cell_type": "markdown",
   "metadata": {},
   "source": [
    "imports"
   ]
  },
  {
   "cell_type": "code",
   "execution_count": 61,
   "metadata": {},
   "outputs": [],
   "source": [
    "import os\n",
    "import math\n",
    "import numpy as np\n",
    "import matplotlib.pyplot as plt\n",
    "from tqdm.notebook import tqdm\n",
    "import torch\n",
    "import torch.nn as nn\n",
    "import torch.nn.functional as F\n",
    "import torch.utils.data as data\n",
    "import torch.optim as optim\n",
    "import torchvision\n",
    "from torchvision.datasets import MNIST\n",
    "from torchvision import transforms\n",
    "import pytorch_lightning as pl\n",
    "from pytorch_lightning.callbacks import LearningRateMonitor, ModelCheckpoint\n",
    "import random\n",
    "from torch.optim import Adam\n",
    "\n",
    "\n",
    "DATASET_PATH = \"../data\"\n",
    "savedModels_PATH = \"finalProduct2\"\n",
    "lossGraph_PATH = \"finalGraph\""
   ]
  },
  {
   "cell_type": "markdown",
   "metadata": {},
   "source": [
    "data"
   ]
  },
  {
   "cell_type": "code",
   "execution_count": 62,
   "metadata": {},
   "outputs": [],
   "source": [
    "\n",
    "def set_seed(seed):\n",
    "    random.seed(seed)\n",
    "    np.random.seed(seed)\n",
    "    torch.manual_seed(seed)\n",
    "    if torch.cuda.is_available():\n",
    "        torch.cuda.manual_seed(seed)\n",
    "        torch.cuda.manual_seed_all(seed)\n",
    "        torch.backends.cudnn.deterministic = True\n",
    "        torch.backends.cudnn.benchmark = False\n",
    "\n",
    "set_seed(42)\n",
    "\n",
    "def add_uniform_noise(sample):\n",
    "    return sample.float() + torch.rand_like(sample.float())\n",
    "\n",
    "def scale_to_unit_interval(sample):\n",
    "    return sample / 255.0\n",
    "cuda = True\n",
    "DEVICE = torch.device(\"cuda\" if cuda else \"cpu\")\n",
    "\n",
    "\n",
    "batch_size = 128\n",
    "\n",
    "x_dim  = 784\n",
    "hidden_dim = 128\n",
    "latent_dim = 64\n",
    "\n",
    "lr = 1e-3\n",
    "\n",
    "epochs = 10\n",
    "\n",
    "static_var = 0.1\n",
    "\n",
    "transform = transforms.Compose([\n",
    "transforms.ToTensor(),\n",
    "add_uniform_noise,\n",
    "scale_to_unit_interval\n",
    "])\n",
    "\n",
    "train_dataset = MNIST(root=DATASET_PATH, train=True, transform=transform, download=True)\n",
    "train_set, val_set = torch.utils.data.random_split(train_dataset, [50000, 10000])\n",
    "test_set = MNIST(root=DATASET_PATH, train=False, transform=transform, download=True)\n",
    "\n",
    "train_loader = data.DataLoader(train_set, batch_size=128, shuffle=True, drop_last=True, pin_memory=True)\n",
    "val_loader = data.DataLoader(val_set, batch_size=128, shuffle=False, drop_last=False)\n",
    "test_loader = data.DataLoader(test_set, batch_size=16, shuffle=False, drop_last=False)\n"
   ]
  },
  {
   "cell_type": "markdown",
   "metadata": {},
   "source": [
    "elbo funciton "
   ]
  },
  {
   "cell_type": "code",
   "execution_count": 63,
   "metadata": {},
   "outputs": [],
   "source": [
    "def calc_elbo(x, x_hat, mean, log_var):\n",
    "    reproduction_loss = torch.sum((x - x_hat)**2 / (2 * static_var**2) + torch.log(static_var * torch.sqrt(torch.tensor(2 * torch.pi))), dim=1)\n",
    "    KLD = -0.5 * torch.sum(1 + log_var - mean.pow(2) - log_var.exp(), dim=1)\n",
    "    \n",
    "    return torch.mean(reproduction_loss + KLD)"
   ]
  },
  {
   "cell_type": "markdown",
   "metadata": {},
   "source": [
    "encoder"
   ]
  },
  {
   "cell_type": "code",
   "execution_count": 64,
   "metadata": {},
   "outputs": [],
   "source": [
    "class Encoder(nn.Module):\n",
    "    \n",
    "    def __init__(self, input_dim, hidden_dim, latent_dim, num_conv_layers):\n",
    "        super(Encoder, self).__init__()\n",
    "        self.num_conv_layers = num_conv_layers\n",
    "        self.convs = nn.ModuleList([nn.Conv2d(1, 1, kernel_size=3, stride=2, padding=1) for _ in range(num_conv_layers)])\n",
    "\n",
    "        # Create a list to store convolutional layers\n",
    "        self.conv1 = nn.Conv2d(1, 1, kernel_size=3, stride=2, padding=1)\n",
    "        self.conv2 = nn.Conv2d(1, 1, kernel_size=3, stride=1, padding=1)\n",
    "        \n",
    "        # Adjust input_dim to account for the concatenated outputs\n",
    "        self.FC_input = nn.Linear(input_dim // 4 * num_conv_layers, hidden_dim)\n",
    "        self.FC_mean  = nn.Linear(hidden_dim, latent_dim)\n",
    "        self.FC_var   = nn.Linear(hidden_dim, latent_dim)\n",
    "        \n",
    "        self.LeakyReLU = nn.LeakyReLU(0.2)\n",
    "        \n",
    "        self.training = True\n",
    "        \n",
    "    def forward(self, x):\n",
    "        batch_size = x.size(0)\n",
    "        \n",
    "        # Reshape input\n",
    "        x = x.view(batch_size, 1, 28, 28)\n",
    "        \n",
    "        # Process input through each convolutional layer\n",
    "        x = self.LeakyReLU(self.conv1(x))\n",
    "        x = self.LeakyReLU(self.conv2(x))\n",
    "        \n",
    "        # Concatenate outputs along the channel dimension\n",
    "        \n",
    "        # Flatten the concatenated output\n",
    "        x = x.view(batch_size, -1)\n",
    "        \n",
    "        # Fully connected layers\n",
    "        x = self.LeakyReLU(self.FC_input(x))\n",
    "        mean = self.FC_mean(x)\n",
    "        log_var = self.FC_var(x)\n",
    "                                                    \n",
    "        return mean, log_var"
   ]
  },
  {
   "cell_type": "markdown",
   "metadata": {},
   "source": [
    "decoder"
   ]
  },
  {
   "cell_type": "code",
   "execution_count": 65,
   "metadata": {},
   "outputs": [],
   "source": [
    "class Decoder(nn.Module):\n",
    "    \n",
    "    def __init__(self, latent_dim, hidden_dim, output_dim, num_conv_layers):\n",
    "        super(Decoder, self).__init__()\n",
    "        \n",
    "        self.FC_hidden = nn.Linear(latent_dim, hidden_dim)\n",
    "        \n",
    "        # Adjusting for the input size to the deconvolution layers\n",
    "        deconv_input_dim = (output_dim // 4) * num_conv_layers\n",
    "        self.FC_output = nn.Linear(hidden_dim, deconv_input_dim)\n",
    "        \n",
    "        \n",
    "        self.deconvs = nn.ModuleList()\n",
    "        for _ in range(num_conv_layers):\n",
    "            self.deconvs.append(nn.ConvTranspose2d(num_conv_layers, 1, kernel_size=3, stride=2, padding=1, output_padding=1))\n",
    "        self.deconv =  nn.ConvTranspose2d(num_conv_layers, 1, kernel_size=3, stride=2, padding=1, output_padding=1)\n",
    "        # Final deconv layer to get to original input size\n",
    "        self.deconv1 = nn.ConvTranspose2d(1, 1, kernel_size=3, stride=1, padding=1, output_padding=0)\n",
    "        self.deconv2 = nn.ConvTranspose2d(1, 1, kernel_size=3, stride=2, padding=1, output_padding=1)\n",
    "        \n",
    "        self.LeakyReLU = nn.LeakyReLU(0.2)\n",
    "        \n",
    "    def forward(self, x):\n",
    "        x = self.LeakyReLU(self.FC_hidden(x))\n",
    "        \n",
    "        x = self.LeakyReLU(self.FC_output(x))\n",
    "        \n",
    "        # Reshape to the correct dimensions for deconvolution\n",
    "        batch_size = x.size(0)\n",
    "        x = x.view(batch_size, -1, 14, 14)  # Assuming the final conv layer outputs 7x7 feature maps\n",
    "        \n",
    "        # Process through each deconvolutional layer\n",
    "        # conv_outputs = [(F.relu(conv(h))) for conv in self.deconvs]\n",
    "        # x = torch.cat(conv_outputs, dim=1)\n",
    "        x = self.LeakyReLU(self.deconv1(x))\n",
    "        x = self.LeakyReLU(self.deconv2(x))\n",
    "        # Flatten the concatenated output\n",
    "        x = x.view(batch_size, -1)\n",
    "    \n",
    "        x = x.view(batch_size, 28, 28) \n",
    "        # Final deconvolution to match the original input dimensions\n",
    "        x_hat = torch.sigmoid(x)\n",
    "        x_hat = x_hat.view(batch_size, 784)\n",
    "        return x_hat"
   ]
  },
  {
   "cell_type": "markdown",
   "metadata": {},
   "source": [
    "model"
   ]
  },
  {
   "cell_type": "code",
   "execution_count": 66,
   "metadata": {},
   "outputs": [],
   "source": [
    "class Model(nn.Module):\n",
    "    def __init__(self, Encoder, Decoder):\n",
    "        super(Model, self).__init__()\n",
    "        self.Encoder = Encoder\n",
    "        self.Decoder = Decoder\n",
    "        \n",
    "    def reparameterization(self, mean, var):\n",
    "        epsilon = torch.randn_like(var).to(DEVICE)        # sampling epsilon        \n",
    "        z = mean + var*epsilon                          # reparameterization trick\n",
    "        return z\n",
    "        \n",
    "                \n",
    "    def forward(self, x):\n",
    "        mean, log_var = self.Encoder(x)\n",
    "        z = self.reparameterization(mean, torch.exp(0.5 * log_var)) # takes exponential function (log var -> var)\n",
    "        x_hat = self.Decoder(z)\n",
    "        \n",
    "        return x_hat, mean, log_var\n",
    "    \n",
    "\n",
    "encoder = Encoder(input_dim=x_dim, hidden_dim=hidden_dim, latent_dim=latent_dim, num_conv_layers=1)\n",
    "decoder = Decoder(latent_dim=latent_dim, hidden_dim = hidden_dim, output_dim = x_dim, num_conv_layers=1)\n",
    "\n",
    "model = Model(Encoder=encoder, Decoder=decoder).to(DEVICE)\n",
    "with torch.no_grad():\n",
    "    model.load_state_dict(torch.load(savedModels_PATH))\n"
   ]
  },
  {
   "cell_type": "markdown",
   "metadata": {},
   "source": [
    "sample"
   ]
  },
  {
   "cell_type": "code",
   "execution_count": 67,
   "metadata": {},
   "outputs": [
    {
     "data": {
      "image/png": "[encoded data removed]",
      "text/plain": [
       "<Figure size 600x200 with 3 Axes>"
      ]
     },
     "metadata": {},
     "output_type": "display_data"
    }
   ],
   "source": [
    "def sample(number_of_images = 1): \n",
    "    with torch.no_grad():\n",
    "        noise = torch.randn(number_of_images, latent_dim).to(DEVICE)\n",
    "        generated_images = decoder(noise)\n",
    "        generated_images = generated_images.to('cpu')\n",
    "        imgs_reshaped = generated_images.view(number_of_images, 28, 28)\n",
    "        \n",
    "        # Set up the plot\n",
    "        fig, axes = plt.subplots(1, number_of_images, figsize=(number_of_images * 2, 2))\n",
    "\n",
    "        # Plot each image\n",
    "        for i in range(number_of_images):\n",
    "            axes[i].imshow(imgs_reshaped[i], cmap='gray')\n",
    "            axes[i].axis('off')  # Hide axes for better visualization\n",
    "\n",
    "        plt.show()\n",
    "\n",
    "sample(3)\n",
    "\n"
   ]
  },
  {
   "cell_type": "markdown",
   "metadata": {},
   "source": [
    "question 2"
   ]
  },
  {
   "cell_type": "code",
   "execution_count": 69,
   "metadata": {},
   "outputs": [
    {
     "name": "stdout",
     "output_type": "stream",
     "text": [
      "transforms from 7 to 2\n"
     ]
    },
    {
     "data": {
      "image/png": "[encoded data removed]",
      "text/plain": [
       "<Figure size 2000x200 with 10 Axes>"
      ]
     },
     "metadata": {},
     "output_type": "display_data"
    }
   ],
   "source": [
    "def visualize_images(tensor):\n",
    "    num_images, squared_size = tensor.shape\n",
    "    img_size = int(squared_size**0.5)\n",
    "\n",
    "    # Reshape each image to its 2D shape\n",
    "    images = tensor.view(num_images, img_size, img_size)\n",
    "    images = images.detach().numpy()\n",
    "    # Plot all images\n",
    "    fig, axes = plt.subplots(1, num_images, figsize=(num_images * 2, 2))\n",
    "    for i in range(num_images):\n",
    "        ax = axes[i]\n",
    "        ax.imshow(images[i], cmap='gray')\n",
    "        ax.axis('off')\n",
    "\n",
    "    plt.show()\n",
    "\n",
    "\n",
    "image1 = train_set[1] # 7\n",
    "image2 = train_set[5] # 2\n",
    "\n",
    "def transformsDigits(image1, image2):\n",
    "    model.eval()\n",
    "    print(f\"transforms from {image1[1]} to {image2[1]}\")\n",
    "    image1 = image1[0].to(DEVICE)\n",
    "    image2 = image2[0].to(DEVICE)\n",
    "    z1 = model.Encoder(image1)[0][0]\n",
    "    z2 = model.Encoder(image2)[0][0]\n",
    "    path = torch.stack([z1 + (i / (9)) * (z2 - z1) for i in range(10)])\n",
    "    images = model.Decoder(path)\n",
    "    visualize_images(images.cpu())\n",
    "\n",
    "plt.close('all')\n",
    "transformsDigits(image1, image2)"
   ]
  }
 ],
 "metadata": {
  "kernelspec": {
   "display_name": "env_pytroch",
   "language": "python",
   "name": "python3"
  },
  "language_info": {
   "codemirror_mode": {
    "name": "ipython",
    "version": 3
   },
   "file_extension": ".py",
   "mimetype": "text/x-python",
   "name": "python",
   "nbconvert_exporter": "python",
   "pygments_lexer": "ipython3",
   "version": "3.8.13"
  }
 },
 "nbformat": 4,
 "nbformat_minor": 2
}
